{
 "cells": [
  {
   "cell_type": "code",
   "execution_count": 1,
   "source": [
    "import numpy as np"
   ],
   "outputs": [],
   "metadata": {}
  },
  {
   "cell_type": "code",
   "execution_count": 2,
   "source": [
    "x = np.array([[1,2,3],[4,5,6]])"
   ],
   "outputs": [],
   "metadata": {}
  },
  {
   "cell_type": "code",
   "execution_count": 3,
   "source": [
    "y = np.array([[6., 23.], [-1, 7], [8, 12]])"
   ],
   "outputs": [],
   "metadata": {}
  },
  {
   "cell_type": "code",
   "execution_count": 4,
   "source": [
    "x"
   ],
   "outputs": [
    {
     "output_type": "execute_result",
     "data": {
      "text/plain": [
       "array([[1, 2, 3],\n",
       "       [4, 5, 6]])"
      ]
     },
     "metadata": {},
     "execution_count": 4
    }
   ],
   "metadata": {}
  },
  {
   "cell_type": "code",
   "execution_count": 5,
   "source": [
    "y"
   ],
   "outputs": [
    {
     "output_type": "execute_result",
     "data": {
      "text/plain": [
       "array([[ 6., 23.],\n",
       "       [-1.,  7.],\n",
       "       [ 8., 12.]])"
      ]
     },
     "metadata": {},
     "execution_count": 5
    }
   ],
   "metadata": {}
  },
  {
   "cell_type": "code",
   "execution_count": 6,
   "source": [
    "x.dot(y)"
   ],
   "outputs": [
    {
     "output_type": "execute_result",
     "data": {
      "text/plain": [
       "array([[ 28.,  73.],\n",
       "       [ 67., 199.]])"
      ]
     },
     "metadata": {},
     "execution_count": 6
    }
   ],
   "metadata": {}
  },
  {
   "cell_type": "code",
   "execution_count": 7,
   "source": [
    "np.dot(x,y)"
   ],
   "outputs": [
    {
     "output_type": "execute_result",
     "data": {
      "text/plain": [
       "array([[ 28.,  73.],\n",
       "       [ 67., 199.]])"
      ]
     },
     "metadata": {},
     "execution_count": 7
    }
   ],
   "metadata": {}
  },
  {
   "cell_type": "code",
   "execution_count": 8,
   "source": [
    "np.ones(3)"
   ],
   "outputs": [
    {
     "output_type": "execute_result",
     "data": {
      "text/plain": [
       "array([1., 1., 1.])"
      ]
     },
     "metadata": {},
     "execution_count": 8
    }
   ],
   "metadata": {}
  },
  {
   "cell_type": "code",
   "execution_count": 10,
   "source": [
    "np.dot(x, np.ones(3))"
   ],
   "outputs": [
    {
     "output_type": "execute_result",
     "data": {
      "text/plain": [
       "array([ 6., 15.])"
      ]
     },
     "metadata": {},
     "execution_count": 10
    }
   ],
   "metadata": {}
  },
  {
   "cell_type": "code",
   "execution_count": 11,
   "source": [
    "x @ np.ones(3)"
   ],
   "outputs": [
    {
     "output_type": "execute_result",
     "data": {
      "text/plain": [
       "array([ 6., 15.])"
      ]
     },
     "metadata": {},
     "execution_count": 11
    }
   ],
   "metadata": {}
  },
  {
   "cell_type": "code",
   "execution_count": 12,
   "source": [
    "from numpy.linalg import inv, qr"
   ],
   "outputs": [],
   "metadata": {}
  },
  {
   "cell_type": "code",
   "execution_count": 13,
   "source": [
    "x = np.random.randn(5,5)"
   ],
   "outputs": [],
   "metadata": {}
  },
  {
   "cell_type": "code",
   "execution_count": 14,
   "source": [
    "x"
   ],
   "outputs": [
    {
     "output_type": "execute_result",
     "data": {
      "text/plain": [
       "array([[-1.11229595,  1.55076515,  0.40736906,  0.24801777,  1.08984244],\n",
       "       [-0.7691347 , -0.04347925,  0.90729523, -1.88305527,  0.51423534],\n",
       "       [-0.54399244, -0.5281726 , -0.0908408 ,  0.64943682, -0.69183475],\n",
       "       [-0.1545577 ,  1.68121676,  0.79003021, -0.17626815,  1.94858653],\n",
       "       [ 0.51537711,  1.44432206, -0.86532144, -0.69859125, -1.14149307]])"
      ]
     },
     "metadata": {},
     "execution_count": 14
    }
   ],
   "metadata": {}
  },
  {
   "cell_type": "code",
   "execution_count": 16,
   "source": [
    "mat = x.T"
   ],
   "outputs": [],
   "metadata": {}
  },
  {
   "cell_type": "code",
   "execution_count": 17,
   "source": [
    "mat"
   ],
   "outputs": [
    {
     "output_type": "execute_result",
     "data": {
      "text/plain": [
       "array([[-1.11229595, -0.7691347 , -0.54399244, -0.1545577 ,  0.51537711],\n",
       "       [ 1.55076515, -0.04347925, -0.5281726 ,  1.68121676,  1.44432206],\n",
       "       [ 0.40736906,  0.90729523, -0.0908408 ,  0.79003021, -0.86532144],\n",
       "       [ 0.24801777, -1.88305527,  0.64943682, -0.17626815, -0.69859125],\n",
       "       [ 1.08984244,  0.51423534, -0.69183475,  1.94858653, -1.14149307]])"
      ]
     },
     "metadata": {},
     "execution_count": 17
    }
   ],
   "metadata": {}
  },
  {
   "cell_type": "code",
   "execution_count": 18,
   "source": [
    "x.T.dot(x)"
   ],
   "outputs": [
    {
     "output_type": "execute_result",
     "data": {
      "text/plain": [
       "array([[ 2.41419989, -0.91962096, -1.66960261,  0.48637095, -2.12085915],\n",
       "       [-0.91962096,  7.5982853 ,  0.71867404, -1.1818593 ,  3.66045198],\n",
       "       [-1.66960261,  0.71867404,  2.37031518, -1.20119885,  3.50057885],\n",
       "       [ 0.48637095, -1.1818593 , -1.20119885,  4.54827835, -0.6933729 ],\n",
       "       [-2.12085915,  3.66045198,  3.50057885, -0.6933729 ,  7.03082574]])"
      ]
     },
     "metadata": {},
     "execution_count": 18
    }
   ],
   "metadata": {}
  },
  {
   "cell_type": "code",
   "execution_count": 19,
   "source": [
    "inv(mat) # 求逆矩阵"
   ],
   "outputs": [
    {
     "output_type": "execute_result",
     "data": {
      "text/plain": [
       "array([[-1.21997688, -0.33383805, -2.52706706, -0.38917239,  1.18062909],\n",
       "       [-0.1090386 ,  0.01466781,  0.55730605, -0.29309465, -0.27376993],\n",
       "       [ 0.7397292 ,  0.88979389,  4.09856164,  1.03011651, -2.27755672],\n",
       "       [ 1.12827153,  0.77603395,  3.09104124,  0.66653389, -1.25979805],\n",
       "       [ 0.26378633,  0.47331939,  0.63085403,  0.00987509, -0.64232988]])"
      ]
     },
     "metadata": {},
     "execution_count": 19
    }
   ],
   "metadata": {}
  },
  {
   "cell_type": "code",
   "execution_count": 20,
   "source": [
    "q, r = qr(mat) #最小二乘问题 QR分解"
   ],
   "outputs": [],
   "metadata": {}
  },
  {
   "cell_type": "code",
   "execution_count": 21,
   "source": [
    "q"
   ],
   "outputs": [
    {
     "output_type": "execute_result",
     "data": {
      "text/plain": [
       "array([[-0.49460815, -0.22275672, -0.78020326, -0.18442506, -0.25102291],\n",
       "       [ 0.68958363, -0.19260624, -0.33530553,  0.41481491, -0.45041763],\n",
       "       [ 0.18114608,  0.36370003,  0.13418421, -0.67565302, -0.6003299 ],\n",
       "       [ 0.11028684, -0.87683251,  0.27323302, -0.37981175, -0.00939728],\n",
       "       [ 0.48462367,  0.11031463, -0.43149901, -0.43949065,  0.61125049]])"
      ]
     },
     "metadata": {},
     "execution_count": 21
    }
   ],
   "metadata": {}
  },
  {
   "cell_type": "code",
   "execution_count": 22,
   "source": [
    "r"
   ],
   "outputs": [
    {
     "output_type": "execute_result",
     "data": {
      "text/plain": [
       "array([[ 2.24884276,  0.55632509, -0.3752667 ,  2.30378704, -0.04591844],\n",
       "       [ 0.        ,  2.21753936, -0.45589831,  0.36746517, -0.22108245],\n",
       "       [ 0.        ,  0.        ,  1.06530805, -1.22610071, -0.70082561],\n",
       "       [ 0.        ,  0.        ,  0.        , -0.59732505,  1.8557436 ],\n",
       "       [ 0.        ,  0.        ,  0.        ,  0.        , -0.95161458]])"
      ]
     },
     "metadata": {},
     "execution_count": 22
    }
   ],
   "metadata": {}
  },
  {
   "cell_type": "code",
   "execution_count": null,
   "source": [],
   "outputs": [],
   "metadata": {}
  }
 ],
 "metadata": {
  "orig_nbformat": 4,
  "language_info": {
   "name": "python",
   "version": "3.8.7",
   "mimetype": "text/x-python",
   "codemirror_mode": {
    "name": "ipython",
    "version": 3
   },
   "pygments_lexer": "ipython3",
   "nbconvert_exporter": "python",
   "file_extension": ".py"
  },
  "kernelspec": {
   "name": "python3",
   "display_name": "Python 3.8.7 64-bit ('my_project_env': venv)"
  },
  "interpreter": {
   "hash": "0c2f5d3d2de363558f13aabe9b05fd00b59c3f407748b5b5f36b3b7cedf70314"
  }
 },
 "nbformat": 4,
 "nbformat_minor": 2
}